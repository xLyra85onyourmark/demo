{
  "cells": [
    {
      "cell_type": "markdown",
      "metadata": {},
      "source": [
        "# Hello Quarto multi-format output\n",
        "\n",
        "JJB + Course\n",
        "\n",
        "## Quarto\n",
        "\n",
        "Quarto enables you to weave together content and executable code into a\n",
        "finished document. To learn more about Quarto see <https://quarto.org>.\n",
        "\n",
        "## Running Code\n",
        "\n",
        "When you click the **Render** button a document will be generated that\n",
        "includes both content and the output of embedded code. You can embed\n",
        "code like this:"
      ],
      "id": "c0d26e01-28a5-434f-a7a7-bb4e5c819b90"
    },
    {
      "cell_type": "code",
      "execution_count": null,
      "metadata": {},
      "outputs": [
        {
          "output_type": "stream",
          "name": "stdout",
          "text": [
            "[1] 2"
          ]
        }
      ],
      "source": [
        "1 + 1"
      ],
      "id": "cbdafde2-2928-4788-9b04-30cfc00050d2"
    },
    {
      "cell_type": "markdown",
      "metadata": {},
      "source": [
        "You can add options to executable code like this"
      ],
      "id": "f812d7c2-e46e-4e4c-aac4-d2f7c9660ded"
    },
    {
      "cell_type": "code",
      "execution_count": null,
      "metadata": {},
      "outputs": [
        {
          "output_type": "stream",
          "name": "stdout",
          "text": [
            "[1] 4"
          ]
        }
      ],
      "source": [],
      "id": "c4ac6eda-2312-4f15-841f-f99efc71d8b2"
    },
    {
      "cell_type": "markdown",
      "metadata": {},
      "source": [
        "The `echo: false` option disables the printing of code (only output is\n",
        "displayed)."
      ],
      "id": "9d412b63-aaad-4a32-8e34-150258508d61"
    }
  ],
  "nbformat": 4,
  "nbformat_minor": 5,
  "metadata": {
    "kernelspec": {
      "display_name": "Python 3",
      "language": "python",
      "name": "python3"
    }
  }
}